{
 "cells": [
  {
   "cell_type": "code",
   "execution_count": 25,
   "id": "dcc72d00",
   "metadata": {},
   "outputs": [
    {
     "name": "stdout",
     "output_type": "stream",
     "text": [
      "The autoreload extension is already loaded. To reload it, use:\n",
      "  %reload_ext autoreload\n"
     ]
    }
   ],
   "source": [
    "## Analysis of 3d Truss structures\n",
    "import sys, os\n",
    "import numpy as np\n",
    "import cvxpy as cp\n",
    "\n",
    "from preprocess import *\n",
    "%load_ext autoreload\n",
    "%autoreload 2"
   ]
  },
  {
   "cell_type": "code",
   "execution_count": 34,
   "id": "cc6cd066",
   "metadata": {},
   "outputs": [],
   "source": [
    "# 2D problem\n",
    "n_in = [31,21,2]\n",
    "l_in = [1,1,1]\n",
    "\n",
    "a_i = 0.01*0.01*np.pi\n",
    "\n",
    "E_i = 8.20E+08\n",
    "\n",
    "dMax = 4.36\n",
    "\n",
    "# constraint nodes\n",
    "cPt = [{'n':[      0,  6,      0],'dof':[1,1,1],'mag':0},\n",
    "       {'n':[      0,  7,      0],'dof':[1,1,1],'mag':0},\n",
    "       {'n':[      0,  8,      0],'dof':[1,1,1],'mag':0},\n",
    "       {'n':[      0,  9,      0],'dof':[1,1,1],'mag':0},\n",
    "       {'n':[      0, 10,      0],'dof':[1,1,1],'mag':0},\n",
    "       {'n':[      0, 11,      0],'dof':[1,1,1],'mag':0},\n",
    "       {'n':[      0, 12,      0],'dof':[1,1,1],'mag':0},\n",
    "       {'n':[      0, 13,      0],'dof':[1,1,1],'mag':0},\n",
    "       {'n':[      0, 14,      0],'dof':[1,1,1],'mag':0},\n",
    "       {'n':[      0,  6,      1],'dof':[1,1,1],'mag':0},\n",
    "       {'n':[      0,  7,      1],'dof':[1,1,1],'mag':0},\n",
    "       {'n':[      0,  8,      1],'dof':[1,1,1],'mag':0},\n",
    "       {'n':[      0,  9,      1],'dof':[1,1,1],'mag':0},\n",
    "       {'n':[      0, 10,      1],'dof':[1,1,1],'mag':0},\n",
    "       {'n':[      0, 11,      1],'dof':[1,1,1],'mag':0},\n",
    "       {'n':[      0, 12,      1],'dof':[1,1,1],'mag':0},\n",
    "       {'n':[      0, 13,      1],'dof':[1,1,1],'mag':0},\n",
    "       {'n':[      0, 14,      1],'dof':[1,1,1],'mag':0}]\n",
    "\n",
    "# force nodes\n",
    "fPt = [{'n':[ 30,     10,      0],'dof':[0,1,0],'mag':-1000},\n",
    "       {'n':[ 30,     10,      1],'dof':[0,1,0],'mag':-1000}]\n"
   ]
  },
  {
   "cell_type": "code",
   "execution_count": 16,
   "id": "a42c9632",
   "metadata": {},
   "outputs": [],
   "source": [
    "# for 19508_bar\n",
    "\n",
    "l_total = 0.15 # m\n",
    "n_node = 5\n",
    "s = l_total/(n_node-1)\n",
    "n_in = [n_node]*3\n",
    "l_in = [s]*3\n",
    "\n",
    "maxA = (s/3)**2*np.pi\n",
    "a_i = 0.01*0.01*np.pi\n",
    "E_i = 820e6\n",
    "\n",
    "# constraint nodes\n",
    "cPt =[{'n':[      0,      0,      0],'dof':[1,1,1],'mag':0},\n",
    "      {'n':[      0,l_total,      0],'dof':[1,1,1],'mag':0},\n",
    "      {'n':[      0,      0,l_total],'dof':[1,1,1],'mag':0},\n",
    "      {'n':[      0,l_total,l_total],'dof':[1,1,1],'mag':0}]\n",
    "\n",
    "# force nodes\n",
    "if n_node % 2 ==0:\n",
    "    fPt = [{'n':[l_total, round((l_total-s)/2.,10), round((l_total-s)/2.,10)],'dof':[0,1,0],'mag':-25},\n",
    "           {'n':[l_total, round((l_total-s)/2.,10), round((l_total+s)/2.,10)],'dof':[0,1,0],'mag':-25},\n",
    "           {'n':[l_total, round((l_total+s)/2.,10), round((l_total-s)/2.,10)],'dof':[0,1,0],'mag':-25},\n",
    "           {'n':[l_total, round((l_total+s)/2.,10), round((l_total+s)/2.,10)],'dof':[0,1,0],'mag':-25}]\n",
    "else:\n",
    "    fPt = [{'n':[l_total, l_total/2., l_total/2.],'dof':[0,1,0],'mag':-25}]\n"
   ]
  },
  {
   "cell_type": "code",
   "execution_count": null,
   "id": "0cfb99b8",
   "metadata": {},
   "outputs": [],
   "source": [
    "nList = ptGrid(n_in,l_in)\n",
    "mList = genLine(nList, a_i, E_i, dMax)\n",
    "[cList,fList] = genBC(cPt,fPt,nList)\n",
    "\n",
    "wDir = '/Users/tianchen/Research/trussOpt/input'\n",
    "mName = '_bar'\n",
    "\n",
    "print(\"num of nodes: \"       + str(len(nList)))\n",
    "print(\"num of members: \"     + str(len(mList)))\n",
    "print(\"num of constraints: \" + str(len(cList)))\n",
    "print(\"num of forces: \"      + str(len(fList)))\n",
    "print(nList[0:10])\n",
    "mNum = len(mList)\n",
    "wTog = True\n",
    "if wTog == True:\n",
    "    writeList(wDir, mName, mNum, nList, 'nodes')\n",
    "    writeList(wDir, mName, mNum, mList, 'members')\n",
    "    writeList(wDir, mName, mNum, cList, 'constraints')\n",
    "    writeList(wDir, mName, mNum, fList, 'forces')"
   ]
  },
  {
   "cell_type": "code",
   "execution_count": null,
   "id": "7a890413",
   "metadata": {},
   "outputs": [],
   "source": []
  }
 ],
 "metadata": {
  "kernelspec": {
   "display_name": "Python 3",
   "language": "python",
   "name": "python3"
  },
  "language_info": {
   "codemirror_mode": {
    "name": "ipython",
    "version": 3
   },
   "file_extension": ".py",
   "mimetype": "text/x-python",
   "name": "python",
   "nbconvert_exporter": "python",
   "pygments_lexer": "ipython3",
   "version": "3.9.9"
  }
 },
 "nbformat": 4,
 "nbformat_minor": 5
}
