{
 "cells": [
  {
   "cell_type": "markdown",
   "id": "69104926",
   "metadata": {},
   "source": [
    "## Write to STL"
   ]
  },
  {
   "cell_type": "code",
   "execution_count": 10,
   "id": "404b03b9",
   "metadata": {},
   "outputs": [
    {
     "name": "stdout",
     "output_type": "stream",
     "text": [
      "The autoreload extension is already loaded. To reload it, use:\n",
      "  %reload_ext autoreload\n"
     ]
    }
   ],
   "source": [
    "## Analysis of 3d Truss structures\n",
    "import sys, os\n",
    "import numpy as np\n",
    "\n",
    "import cvxpy as cp\n",
    "try:\n",
    "    import google.colab\n",
    "    IN_COLAB = True\n",
    "except:\n",
    "    IN_COLAB = False\n",
    "  \n",
    "if IN_COLAB:\n",
    "    from google.colab import drive\n",
    "    drive.mount('/content/drive')\n",
    "    cwdGoogle = '/content/drive/MyDrive/AIM/projects/2022_truss_optimization/pythonTrussFEM/'\n",
    "    sys.path.append(cwdGoogle)\n",
    "else:\n",
    "    cwdGoogle = ''\n",
    "  \n",
    "from trussFEM import *\n",
    "from trussSTLGen import *\n",
    "\n",
    "%load_ext autoreload\n",
    "%autoreload 2"
   ]
  },
  {
   "cell_type": "code",
   "execution_count": 11,
   "id": "f76daffa",
   "metadata": {},
   "outputs": [],
   "source": [
    "\n",
    "# Folder containing all your models\n",
    "outputFolder='output/'\n",
    "# Sub folder containing the particular model for analysis\n",
    "outputModel='19508_bar'\n",
    "# The unit which to do the simulation and optimization in, note the output files are always in m\n",
    "outputUnit='mm'\n",
    "\n",
    "# Read data from file and put all in matlab tables\n",
    "cwd=cwdGoogle+outputFolder+outputModel+'/'\n",
    "\n",
    "    \n",
    "def importData(cwd, outputUnit):\n",
    "    outputDataNames =['members', 'nodes']\n",
    "    \n",
    "    outputData = dict()\n",
    "    num = dict()\n",
    "    \n",
    "    for dataName in outputDataNames:\n",
    "        outputData[dataName] = np.genfromtxt(cwd+'/'+dataName+'.csv', delimiter=',')\n",
    "        if len(np.shape(outputData[dataName])) == 1:\n",
    "            numDim = 1\n",
    "        else:\n",
    "            numDim = np.shape(outputData[dataName])[0]\n",
    "        num[dataName[0]] = numDim\n",
    "\n",
    "    if outputUnit == 'mm':\n",
    "      uM = 1000\n",
    "    else:\n",
    "      uM = 1\n",
    "      \n",
    "    outputData['nodes'] = outputData['nodes']*uM\n",
    "    outputData['members'][:,2] = outputData['members'][:,2]*(uM**2)\n",
    "\n",
    "    return [outputData, num]\n",
    "    \n",
    "[outputData, num] = importData(cwd, outputUnit)"
   ]
  },
  {
   "cell_type": "code",
   "execution_count": 12,
   "id": "f1fb8823",
   "metadata": {},
   "outputs": [
    {
     "name": "stdout",
     "output_type": "stream",
     "text": [
      "Write 64 bars\n",
      "\n",
      "...\n",
      "\n"
     ]
    }
   ],
   "source": [
    "trussSTLGenObj=trussSTLGen(cwd,'nodes.csv','members.csv',outputModel+'.stl',8, 'mm', False)"
   ]
  },
  {
   "cell_type": "code",
   "execution_count": null,
   "id": "155b4f35",
   "metadata": {},
   "outputs": [],
   "source": []
  }
 ],
 "metadata": {
  "kernelspec": {
   "display_name": "Python 3",
   "language": "python",
   "name": "python3"
  },
  "language_info": {
   "codemirror_mode": {
    "name": "ipython",
    "version": 3
   },
   "file_extension": ".py",
   "mimetype": "text/x-python",
   "name": "python",
   "nbconvert_exporter": "python",
   "pygments_lexer": "ipython3",
   "version": "3.9.9"
  }
 },
 "nbformat": 4,
 "nbformat_minor": 5
}
